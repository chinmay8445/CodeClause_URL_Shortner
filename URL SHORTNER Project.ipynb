{
 "cells": [
  {
   "cell_type": "code",
   "execution_count": 1,
   "id": "b3bccccb",
   "metadata": {},
   "outputs": [],
   "source": [
    "import tkinter as tk\n",
    "import random\n",
    "import string\n",
    "\n",
    "def shorten_url():\n",
    "    full_url = url_entry.get()\n",
    "    short_url = ''.join(random.choices(string.ascii_letters + string.digits, k=6))\n",
    "    shortened_url_label.configure(text=f\"Shortened URL: http://short.com/{short_url}\")\n",
    "    \n",
    "\n",
    "    \n",
    "\n",
    "root = tk.Tk()\n",
    "root.geometry(\"733x434\")\n",
    "root.configure(bg=\"grey\")\n",
    "root.title(\"URL Shortener\")\n",
    "\n",
    "\n",
    "url_label = tk.Label(root, text=\"Enter the full URL:\",font=(15),padx=20,pady=30)\n",
    "url_label.pack()\n",
    "url_entry = tk.Entry(root, width=50)\n",
    "url_entry.pack(padx=50,pady=50)\n",
    "\n",
    "\n",
    "shorten_button = tk.Button(root, text=\"Shorten URL\", command=shorten_url)\n",
    "shorten_button.pack()\n",
    "\n",
    "\n",
    "shortened_url_label = tk.Label(root, text=\"\")\n",
    "shortened_url_label.pack()\n",
    "\n",
    "\n",
    "root.mainloop()\n"
   ]
  },
  {
   "cell_type": "code",
   "execution_count": null,
   "id": "346861a1",
   "metadata": {},
   "outputs": [],
   "source": []
  },
  {
   "cell_type": "code",
   "execution_count": null,
   "id": "3d5be313",
   "metadata": {},
   "outputs": [],
   "source": []
  }
 ],
 "metadata": {
  "kernelspec": {
   "display_name": "Python 3 (ipykernel)",
   "language": "python",
   "name": "python3"
  },
  "language_info": {
   "codemirror_mode": {
    "name": "ipython",
    "version": 3
   },
   "file_extension": ".py",
   "mimetype": "text/x-python",
   "name": "python",
   "nbconvert_exporter": "python",
   "pygments_lexer": "ipython3",
   "version": "3.9.13"
  }
 },
 "nbformat": 4,
 "nbformat_minor": 5
}
